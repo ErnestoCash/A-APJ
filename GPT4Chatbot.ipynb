{
  "nbformat": 4,
  "nbformat_minor": 0,
  "metadata": {
    "colab": {
      "provenance": [],
      "authorship_tag": "ABX9TyNllpd+UXRWKIvKH0aL5gaM",
      "include_colab_link": true
    },
    "kernelspec": {
      "name": "python3",
      "display_name": "Python 3"
    },
    "language_info": {
      "name": "python"
    }
  },
  "cells": [
    {
      "cell_type": "markdown",
      "metadata": {
        "id": "view-in-github",
        "colab_type": "text"
      },
      "source": [
        "<a href=\"https://colab.research.google.com/github/ErnestoCash/ASAP/blob/main/GPT4Chatbot.ipynb\" target=\"_parent\"><img src=\"https://colab.research.google.com/assets/colab-badge.svg\" alt=\"Open In Colab\"/></a>"
      ]
    },
    {
      "cell_type": "code",
      "execution_count": null,
      "metadata": {
        "id": "uU82YTn9kTZp"
      },
      "outputs": [],
      "source": [
        "# Install the requests library\n",
        "!pip install requests\n",
        "\n",
        "# Import necessary libraries\n",
        "import requests\n",
        "import json\n",
        "\n",
        "# OpenAI API key (replace with your own key)\n",
        "openai_api_key = \"your_openai_api_key\"  # Replace with your actual OpenAI API key\n",
        "\n",
        "# Function to call the OpenAI API and get a response\n",
        "def get_openai_response(prompt):\n",
        "    url = \"https://api.openai.com/v4/completions\"\n",
        "    headers = {\n",
        "        \"Authorization\": f\"Bearer {openai_api_key}\",\n",
        "        \"Content-Type\": \"application/json\"\n",
        "    }\n",
        "    data = {\n",
        "        \"model\": \"text-davinci-004\",  # Replace with \"gpt-4\" if using ChatGPT-4\n",
        "        \"prompt\": prompt,\n",
        "        \"max_tokens\": 150\n",
        "    }\n",
        "\n",
        "    response = requests.post(url, headers=headers, json=data)\n",
        "    response_json = response.json()\n",
        "    return response_json['choices'][0]['text']\n",
        "\n",
        "# Example usage of the function\n",
        "prompt = \"Translate the following English text to French: 'Hello, how are you?'\"\n",
        "print(get_openai_response(prompt))\n"
      ]
    }
  ]
}