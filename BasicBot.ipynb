{
  "nbformat": 4,
  "nbformat_minor": 0,
  "metadata": {
    "colab": {
      "provenance": [],
      "authorship_tag": "ABX9TyOmI+UGxVXoCSI28jnQJiAk",
      "include_colab_link": true
    },
    "kernelspec": {
      "name": "python3",
      "display_name": "Python 3"
    },
    "language_info": {
      "name": "python"
    }
  },
  "cells": [
    {
      "cell_type": "markdown",
      "metadata": {
        "id": "view-in-github",
        "colab_type": "text"
      },
      "source": [
        "<a href=\"https://colab.research.google.com/github/ErnestoCash/ASAP/blob/main/BasicBot.ipynb\" target=\"_parent\"><img src=\"https://colab.research.google.com/assets/colab-badge.svg\" alt=\"Open In Colab\"/></a>"
      ]
    },
    {
      "cell_type": "code",
      "execution_count": null,
      "metadata": {
        "id": "YDZAFBY9LtN1"
      },
      "outputs": [],
      "source": [
        "# Advanced Chatbot with OpenAI's ChatGPT-4 and Integration Techniques\n",
        "\n",
        "# Importing required libraries\n",
        "import requests\n",
        "import json\n",
        "\n",
        "# Function to make an API request with advanced features\n",
        "def make_api_request(prompt_text, model=\"text-davinci-004\", temperature=0.7, max_tokens=150, presence_penalty=0, frequency_penalty=0):\n",
        "    \"\"\"\n",
        "    Function to interact with the OpenAI API using advanced features.\n",
        "    \"\"\"\n",
        "    # API URL/Endpoint\n",
        "    url = \"https://api.openai.com/v4/completions\"\n",
        "\n",
        "    # Headers with authentication and content type\n",
        "    headers = {\n",
        "        \"Authorization\": \"Bearer YOUR_API_KEY\",\n",
        "        \"Content-Type\": \"application/json\"\n",
        "    }\n",
        "\n",
        "    # Body of the request with advanced parameters\n",
        "    data = {\n",
        "        \"model\": model,\n",
        "        \"prompt\": prompt_text,\n",
        "        \"temperature\": temperature,\n",
        "        \"max_tokens\": max_tokens,\n",
        "        \"presence_penalty\": presence_penalty,\n",
        "        \"frequency_penalty\": frequency_penalty\n",
        "    }\n",
        "\n",
        "    try:\n",
        "        # Making a POST request to the API\n",
        "        response = requests.post(url, headers=headers, json=data)\n",
        "        if response.status_code == 200:\n",
        "            return response.json()\n",
        "        else:\n",
        "            return {\"error\": f\"API error: {response.status_code}, {response.text}\"}\n",
        "    except requests.exceptions.RequestException as e:\n",
        "        return {\"error\": f\"Network error: {str(e)}\"}\n",
        "\n",
        "# Chatbot function with context maintenance and webhook structure\n",
        "def chatbot_conversation(context=[]):\n",
        "    user_input = input(\"You: \")\n",
        "    full_prompt = \"\\n\".join(context + [user_input])\n",
        "\n",
        "    # Call the API with advanced features\n",
        "    chatbot_response = make_api_request(full_prompt)\n",
        "\n",
        "    if 'error' in chatbot_response:\n",
        "        print(\"Error:\", chatbot_response['error'])\n",
        "    else:\n",
        "        response_text = chatbot_response['choices'][0]['text'].strip()\n",
        "        print(\"Chatbot:\", response_text)\n",
        "\n",
        "        # Update context (Maintain last N interactions)\n",
        "        context.append(user_input)\n",
        "        context.append(response_text)\n",
        "        if len(context) > 10:  # Adjust as needed\n",
        "            context = context[-10:]\n",
        "\n",
        "# Example Chatbot Conversation with Advanced Features\n",
        "context = []\n",
        "while True:\n",
        "    chatbot_conversation(context)\n"
      ]
    }
  ]
}