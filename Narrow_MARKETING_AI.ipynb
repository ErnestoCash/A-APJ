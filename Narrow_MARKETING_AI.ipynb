{
  "nbformat": 4,
  "nbformat_minor": 0,
  "metadata": {
    "colab": {
      "provenance": [],
      "authorship_tag": "ABX9TyPnO1//zXCx076fsSvaOop9",
      "include_colab_link": true
    },
    "kernelspec": {
      "name": "python3",
      "display_name": "Python 3"
    },
    "language_info": {
      "name": "python"
    }
  },
  "cells": [
    {
      "cell_type": "markdown",
      "metadata": {
        "id": "view-in-github",
        "colab_type": "text"
      },
      "source": [
        "<a href=\"https://colab.research.google.com/github/ErnestoCash/ASAP/blob/main/Narrow_MARKETING_AI.ipynb\" target=\"_parent\"><img src=\"https://colab.research.google.com/assets/colab-badge.svg\" alt=\"Open In Colab\"/></a>"
      ]
    },
    {
      "cell_type": "code",
      "execution_count": 5,
      "metadata": {
        "colab": {
          "base_uri": "https://localhost:8080/"
        },
        "id": "UYcP5qU9FJjC",
        "outputId": "2bc5639b-2886-4ce6-a332-24275791d07f"
      },
      "outputs": [
        {
          "output_type": "stream",
          "name": "stdout",
          "text": [
            "Accuracy: 0.9083333333333333\n",
            "\n",
            "Classification Report:\n",
            "               precision    recall  f1-score   support\n",
            "\n",
            "           0       0.94      0.90      0.92        73\n",
            "           1       0.86      0.91      0.89        47\n",
            "\n",
            "    accuracy                           0.91       120\n",
            "   macro avg       0.90      0.91      0.90       120\n",
            "weighted avg       0.91      0.91      0.91       120\n",
            "\n"
          ]
        }
      ],
      "source": [
        "import pandas as pd\n",
        "from sklearn.model_selection import train_test_split\n",
        "from sklearn.ensemble import RandomForestClassifier\n",
        "from sklearn.metrics import accuracy_score, classification_report\n",
        "\n",
        "# URL of the raw dataset on GitHub\n",
        "url = \"https://raw.githubusercontent.com/ahmedanwar88/Purchase-prediction/master/Social_Network_Ads.csv\"\n",
        "\n",
        "# Step 1: Load Data with additional parameters for handling potential parsing issues\n",
        "try:\n",
        "    df = pd.read_csv(url)\n",
        "except pd.errors.ParserError:\n",
        "    # Trying with a different delimiter if the default comma doesn't work\n",
        "    df = pd.read_csv(url, delimiter=';')\n",
        "\n",
        "# Step 2: Preprocess Data\n",
        "# Assuming the dataset is already clean and ready to use\n",
        "X = df[['Age', 'EstimatedSalary']]\n",
        "y = df['Purchased']\n",
        "\n",
        "# Step 3: Split Data\n",
        "X_train, X_test, y_train, y_test = train_test_split(X, y, test_size=0.3, random_state=42)\n",
        "\n",
        "# Step 4 & 5: Model Selection and Training\n",
        "model = RandomForestClassifier(n_estimators=100, random_state=42)\n",
        "model.fit(X_train, y_train)\n",
        "\n",
        "# Step 6: Model Evaluation\n",
        "y_pred = model.predict(X_test)\n",
        "print(\"Accuracy:\", accuracy_score(y_test, y_pred))\n",
        "print(\"\\nClassification Report:\\n\", classification_report(y_test, y_pred))\n",
        "\n",
        "# Step 7: Prediction (with hypothetical new data)\n",
        "# new_data = [[Age, Salary]]\n",
        "# prediction = model.predict(new_data)\n",
        "# print(\"Prediction:\", prediction)\n",
        "\n",
        "# Step 8: Optimization\n",
        "# This can involve hyperparameter tuning or trying different algorithms\n"
      ]
    }
  ]
}