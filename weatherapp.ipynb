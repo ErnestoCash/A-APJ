{
  "nbformat": 4,
  "nbformat_minor": 0,
  "metadata": {
    "colab": {
      "provenance": [],
      "authorship_tag": "ABX9TyNMVm5ta2aLUTCiPvj4QJXE",
      "include_colab_link": true
    },
    "kernelspec": {
      "name": "python3",
      "display_name": "Python 3"
    },
    "language_info": {
      "name": "python"
    }
  },
  "cells": [
    {
      "cell_type": "markdown",
      "metadata": {
        "id": "view-in-github",
        "colab_type": "text"
      },
      "source": [
        "<a href=\"https://colab.research.google.com/github/ErnestoCash/ASAP/blob/main/weatherapp.ipynb\" target=\"_parent\"><img src=\"https://colab.research.google.com/assets/colab-badge.svg\" alt=\"Open In Colab\"/></a>"
      ]
    },
    {
      "cell_type": "code",
      "execution_count": null,
      "metadata": {
        "id": "SuQFqv7CkCid"
      },
      "outputs": [],
      "source": [
        "import requests\n",
        "import pandas as pd\n",
        "import matplotlib.pyplot as plt\n",
        "import seaborn as sns\n"
      ]
    },
    {
      "cell_type": "code",
      "source": [
        "API_KEY = 'your_api_key'  # Replace with your OpenWeatherMap API key\n",
        "CITY = \"Bogota,CO\"\n",
        "\n",
        "def fetch_weather_data(city):\n",
        "    url = f\"http://api.openweathermap.org/data/2.5/weather?q={city}&appid={API_KEY}&units=metric\"\n",
        "    response = requests.get(url)\n",
        "    return response.json()\n",
        "\n",
        "weather_data = fetch_weather_data(CITY)\n"
      ],
      "metadata": {
        "id": "YoOfvmzGkVfD"
      },
      "execution_count": null,
      "outputs": []
    },
    {
      "cell_type": "code",
      "source": [
        "# Assuming the data contains temperature, humidity, etc.\n",
        "temperature = weather_data['main']['temp']\n",
        "humidity = weather_data['main']['humidity']\n",
        "wind_speed = weather_data['wind']['speed']\n",
        "\n",
        "# Creating a DataFrame\n",
        "df_weather = pd.DataFrame({\n",
        "    'Temperature': [temperature],\n",
        "    'Humidity': [humidity],\n",
        "    'Wind Speed': [wind_speed]\n",
        "})\n"
      ],
      "metadata": {
        "id": "yLd6BXMhkXh0"
      },
      "execution_count": null,
      "outputs": []
    },
    {
      "cell_type": "code",
      "source": [
        "sns.set_style(\"whitegrid\")\n",
        "plt.figure(figsize=(10, 6))\n",
        "\n",
        "# Temperature\n",
        "plt.subplot(3, 1, 1)\n",
        "sns.lineplot(data=df_weather, x=df_weather.index, y='Temperature', marker='o')\n",
        "plt.title('Temperature in Bogotá')\n",
        "\n",
        "# Humidity\n",
        "plt.subplot(3, 1, 2)\n",
        "sns.lineplot(data=df_weather, x=df_weather.index, y='Humidity', marker='o', color='orange')\n",
        "plt.title('Humidity in Bogotá')\n",
        "\n",
        "# Wind Speed\n",
        "plt.subplot(3, 1, 3)\n",
        "sns.lineplot(data=df_weather, x=df_weather.index, y='Wind Speed', marker='o', color='green')\n",
        "plt.title('Wind Speed in Bogotá')\n",
        "\n",
        "plt.tight_layout()\n",
        "plt.show()\n"
      ],
      "metadata": {
        "id": "POQS0vZHkZ7u"
      },
      "execution_count": null,
      "outputs": []
    }
  ]
}