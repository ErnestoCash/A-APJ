{
  "nbformat": 4,
  "nbformat_minor": 0,
  "metadata": {
    "colab": {
      "provenance": [],
      "authorship_tag": "ABX9TyNHPfy1Nc9ud1nR/sf9uVtl",
      "include_colab_link": true
    },
    "kernelspec": {
      "name": "python3",
      "display_name": "Python 3"
    },
    "language_info": {
      "name": "python"
    }
  },
  "cells": [
    {
      "cell_type": "markdown",
      "metadata": {
        "id": "view-in-github",
        "colab_type": "text"
      },
      "source": [
        "<a href=\"https://colab.research.google.com/github/ErnestoCash/ASAP/blob/main/prisnerDilemma.ipynb\" target=\"_parent\"><img src=\"https://colab.research.google.com/assets/colab-badge.svg\" alt=\"Open In Colab\"/></a>"
      ]
    },
    {
      "cell_type": "code",
      "execution_count": 1,
      "metadata": {
        "colab": {
          "base_uri": "https://localhost:8080/"
        },
        "id": "JgLQ9tNhtRwS",
        "outputId": "d87d2877-5b11-43c0-ca1f-1a675df18026"
      },
      "outputs": [
        {
          "output_type": "stream",
          "name": "stdout",
          "text": [
            "Collecting nashpy\n",
            "  Downloading nashpy-0.0.40-py3-none-any.whl (27 kB)\n",
            "Requirement already satisfied: numpy>=1.21.0 in /usr/local/lib/python3.10/dist-packages (from nashpy) (1.23.5)\n",
            "Requirement already satisfied: scipy>=0.19.0 in /usr/local/lib/python3.10/dist-packages (from nashpy) (1.11.4)\n",
            "Requirement already satisfied: networkx>=3.0.0 in /usr/local/lib/python3.10/dist-packages (from nashpy) (3.2.1)\n",
            "Collecting deprecated>=1.2.14 (from nashpy)\n",
            "  Downloading Deprecated-1.2.14-py2.py3-none-any.whl (9.6 kB)\n",
            "Requirement already satisfied: wrapt<2,>=1.10 in /usr/local/lib/python3.10/dist-packages (from deprecated>=1.2.14->nashpy) (1.14.1)\n",
            "Installing collected packages: deprecated, nashpy\n",
            "Successfully installed deprecated-1.2.14 nashpy-0.0.40\n"
          ]
        }
      ],
      "source": [
        "!pip install nashpy"
      ]
    },
    {
      "cell_type": "code",
      "source": [
        "import nashpy as nash\n",
        "import numpy as np"
      ],
      "metadata": {
        "id": "xCLtXe9YtXMq"
      },
      "execution_count": 2,
      "outputs": []
    },
    {
      "cell_type": "code",
      "source": [
        "payoff_matrix = np.array([[-1, -3],  # Both cooperate, One cooperates and the other defects\n",
        "                          [0, -2]])  # One cooperates and the other defects, Both defect"
      ],
      "metadata": {
        "id": "lO6SU0pJtZqL"
      },
      "execution_count": 3,
      "outputs": []
    },
    {
      "cell_type": "code",
      "source": [
        "game = nash.Game(payoff_matrix)\n",
        "equilibria = game.support_enumeration()"
      ],
      "metadata": {
        "id": "lzgw4BwQtc2V"
      },
      "execution_count": 4,
      "outputs": []
    },
    {
      "cell_type": "code",
      "source": [
        "for eq in equilibria:\n",
        "    print(f\"Player A's strategy: {eq[0]}\")\n",
        "    print(f\"Player B's strategy: {eq[1]}\")"
      ],
      "metadata": {
        "colab": {
          "base_uri": "https://localhost:8080/"
        },
        "id": "-CqhYq2ptdsA",
        "outputId": "5eecad0f-95ab-4acd-d4f4-84c1c11bc204"
      },
      "execution_count": 5,
      "outputs": [
        {
          "output_type": "stream",
          "name": "stdout",
          "text": [
            "Player A's strategy: [0. 1.]\n",
            "Player B's strategy: [0. 1.]\n"
          ]
        }
      ]
    }
  ]
}