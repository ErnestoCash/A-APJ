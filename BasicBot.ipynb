{
  "nbformat": 4,
  "nbformat_minor": 0,
  "metadata": {
    "colab": {
      "provenance": [],
      "authorship_tag": "ABX9TyNBMjXOW39q9PPkMVZ7OSrx",
      "include_colab_link": true
    },
    "kernelspec": {
      "name": "python3",
      "display_name": "Python 3"
    },
    "language_info": {
      "name": "python"
    }
  },
  "cells": [
    {
      "cell_type": "markdown",
      "metadata": {
        "id": "view-in-github",
        "colab_type": "text"
      },
      "source": [
        "<a href=\"https://colab.research.google.com/github/ErnestoCash/ASAP/blob/main/BasicBot.ipynb\" target=\"_parent\"><img src=\"https://colab.research.google.com/assets/colab-badge.svg\" alt=\"Open In Colab\"/></a>"
      ]
    },
    {
      "cell_type": "code",
      "execution_count": null,
      "metadata": {
        "id": "cjCy8gxd5fEu"
      },
      "outputs": [],
      "source": [
        "# API Interaction with OpenAI using Python\n",
        "\n",
        "# Importing required libraries\n",
        "import requests\n",
        "\n",
        "def make_api_request(prompt_text):\n",
        "    \"\"\"\n",
        "    Function to interact with the OpenAI API\n",
        "    \"\"\"\n",
        "    # API URL/Endpoint\n",
        "    url = \"https://api.openai.com/v4/completions\"\n",
        "\n",
        "    # Headers with authentication (API key) and content type\n",
        "    headers = {\n",
        "        \"Authorization\": \"Bearer YOUR_API_KEY\",\n",
        "        \"Content-Type\": \"application/json\"\n",
        "    }\n",
        "\n",
        "    # Body of the request with the prompt and other parameters\n",
        "    data = {\n",
        "        \"model\": \"text-davinci-004\",  # Use \"gpt-4\" for ChatGPT-4\n",
        "        \"prompt\": prompt_text,\n",
        "        \"max_tokens\": 60\n",
        "    }\n",
        "\n",
        "    # Making a POST request to the API\n",
        "    response = requests.post(url, headers=headers, json=data)\n",
        "\n",
        "    # Returning the response in JSON format\n",
        "    return response.json()\n",
        "\n",
        "# Example usage of the function\n",
        "example_prompt = \"Translate the following English text to French: 'Hello, how are you?'\"\n",
        "response = make_api_request(example_prompt)\n",
        "print(response)\n",
        "\n",
        "# Basic Chatbot Coding\n",
        "\n",
        "# Function to handle chatbot conversation\n",
        "def chatbot_conversation():\n",
        "    user_input = input(\"You: \")\n",
        "    chatbot_response = make_api_request(user_input)\n",
        "    print(\"Chatbot:\", chatbot_response['choices'][0]['text'])\n",
        "\n",
        "# Example Chatbot Conversation\n",
        "while True:\n",
        "    chatbot_conversation()\n"
      ]
    }
  ]
}