{
  "nbformat": 4,
  "nbformat_minor": 0,
  "metadata": {
    "colab": {
      "provenance": [],
      "authorship_tag": "ABX9TyMSgXfk8Y5SfHJnC9/O61f1",
      "include_colab_link": true
    },
    "kernelspec": {
      "name": "python3",
      "display_name": "Python 3"
    },
    "language_info": {
      "name": "python"
    }
  },
  "cells": [
    {
      "cell_type": "markdown",
      "metadata": {
        "id": "view-in-github",
        "colab_type": "text"
      },
      "source": [
        "<a href=\"https://colab.research.google.com/github/ErnestoCash/ASAP/blob/main/Movie_Recom_System.ipynb\" target=\"_parent\"><img src=\"https://colab.research.google.com/assets/colab-badge.svg\" alt=\"Open In Colab\"/></a>"
      ]
    },
    {
      "cell_type": "code",
      "execution_count": null,
      "metadata": {
        "id": "QDTxDJxuVAHh"
      },
      "outputs": [],
      "source": [
        "import pandas as pd\n",
        "from sklearn.model_selection import train_test_split\n",
        "from sklearn.decomposition import TruncatedSVD\n"
      ]
    },
    {
      "cell_type": "code",
      "source": [
        "# Load the MovieLens dataset (you need to upload it to Colab or use a direct download link)\n",
        "movies_url = 'http://files.grouplens.org/datasets/movielens/ml-latest-small/movies.csv'\n",
        "ratings_url = 'http://files.grouplens.org/datasets/movielens/ml-latest-small/ratings.csv'\n",
        "\n",
        "movies_df = pd.read_csv(movies_url)\n",
        "ratings_df = pd.read_csv(ratings_url)\n"
      ],
      "metadata": {
        "id": "Kd8u_skBVCpJ"
      },
      "execution_count": null,
      "outputs": []
    },
    {
      "cell_type": "code",
      "source": [
        "# Merge the movies and ratings dataframes\n",
        "movie_ratings_df = pd.merge(ratings_df, movies_df, on='movieId')\n",
        "\n",
        "# Create a matrix with users as rows and movies as columns\n",
        "ratings_matrix = movie_ratings_df.pivot_table(index='userId', columns='title', values='rating')\n",
        "ratings_matrix = ratings_matrix.fillna(0)\n"
      ],
      "metadata": {
        "id": "pKXXg5vKVJk6"
      },
      "execution_count": null,
      "outputs": []
    },
    {
      "cell_type": "code",
      "source": [
        "# Decompose the matrix using Singular Value Decomposition (SVD)\n",
        "SVD = TruncatedSVD(n_components=20)\n",
        "decomposed_matrix = SVD.fit_transform(ratings_matrix)\n"
      ],
      "metadata": {
        "id": "YeAiZl9_VXIH"
      },
      "execution_count": null,
      "outputs": []
    },
    {
      "cell_type": "code",
      "source": [
        "# Compute correlation matrix\n",
        "correlation_matrix = np.corrcoef(decomposed_matrix)\n",
        "\n",
        "# Choose a movie to test\n",
        "movie_title = 'Toy Story (1995)'\n",
        "movie_id = list(ratings_matrix.columns).index(movie_title)\n",
        "\n",
        "# Get correlation scores for the movie\n",
        "correlation_movie_scores = correlation_matrix[movie_id]\n",
        "recommendations = list(ratings_matrix.columns[correlation_movie_scores > 0.9])\n",
        "\n",
        "# Display top 10 recommendations\n",
        "print(recommendations[:10])\n"
      ],
      "metadata": {
        "id": "mBSYHlicVZad"
      },
      "execution_count": null,
      "outputs": []
    }
  ]
}