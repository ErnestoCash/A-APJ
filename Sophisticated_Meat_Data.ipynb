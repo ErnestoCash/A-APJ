{
  "nbformat": 4,
  "nbformat_minor": 0,
  "metadata": {
    "colab": {
      "provenance": [],
      "authorship_tag": "ABX9TyNt8yqQy5BgAMytibmDYFhs",
      "include_colab_link": true
    },
    "kernelspec": {
      "name": "python3",
      "display_name": "Python 3"
    },
    "language_info": {
      "name": "python"
    }
  },
  "cells": [
    {
      "cell_type": "markdown",
      "metadata": {
        "id": "view-in-github",
        "colab_type": "text"
      },
      "source": [
        "<a href=\"https://colab.research.google.com/github/ErnestoCash/ASAP/blob/main/Sophisticated_Meat_Data.ipynb\" target=\"_parent\"><img src=\"https://colab.research.google.com/assets/colab-badge.svg\" alt=\"Open In Colab\"/></a>"
      ]
    },
    {
      "cell_type": "code",
      "source": [
        "import pandas as pd\n",
        "import numpy as np\n",
        "from sklearn.model_selection import train_test_split\n",
        "from sklearn.preprocessing import OneHotEncoder, StandardScaler, LabelEncoder\n",
        "from tensorflow.keras.models import Sequential\n",
        "from tensorflow.keras.layers import Dense, Dropout\n"
      ],
      "metadata": {
        "id": "673NlYiCA8WW"
      },
      "execution_count": null,
      "outputs": []
    },
    {
      "cell_type": "code",
      "execution_count": null,
      "metadata": {
        "colab": {
          "base_uri": "https://localhost:8080/"
        },
        "id": "lJTEinXp8rwS",
        "outputId": "332c1ed8-dc77-4b43-a6ef-d7259bb27fca"
      },
      "outputs": [
        {
          "output_type": "stream",
          "name": "stdout",
          "text": [
            "Dataset saved as Sophisticated_Meat_Data.csv\n"
          ]
        }
      ],
      "source": [
        "import pandas as pd\n",
        "import numpy as np\n",
        "\n",
        "# Creating a fictional dataset\n",
        "np.random.seed(0)\n",
        "sample_size = 1000\n",
        "features = {\n",
        "    'Size': np.random.choice(['Small', 'Medium', 'Large'], sample_size),\n",
        "    'Shape': np.random.choice(['Round', 'Oblong', 'Irregular'], sample_size),\n",
        "    'Color': np.random.choice(['Light', 'Dark', 'Varied'], sample_size),\n",
        "    'Weight': np.random.uniform(0.5, 5.0, sample_size),\n",
        "    'Texture': np.random.choice(['Smooth', 'Rough', 'Grainy'], sample_size)\n",
        "}\n",
        "labels = {'MeatType': np.random.choice(['Chicken', 'Beef', 'Pork'], sample_size)}\n",
        "data = pd.DataFrame({**features, **labels})\n",
        "\n",
        "# Save the DataFrame to a CSV file in the current working directory\n",
        "csv_file = 'Sophisticated_Meat_Data.csv'\n",
        "data.to_csv(csv_file, index=False)\n",
        "\n",
        "print(f\"Dataset saved as {csv_file}\")\n"
      ]
    },
    {
      "cell_type": "code",
      "source": [
        "# Load the dataset\n",
        "data = pd.read_csv('/content/Sophisticated_Meat_Data.csv')  # Update the path if necessary\n",
        "\n",
        "# One-hot encode categorical features\n",
        "encoder = OneHotEncoder(sparse=False)\n",
        "encoded_features = pd.DataFrame(encoder.fit_transform(data[['Size', 'Shape', 'Color', 'Texture']]))\n",
        "\n",
        "# Normalize the 'Weight' feature\n",
        "scaler = StandardScaler()\n",
        "data['Weight'] = scaler.fit_transform(data[['Weight']])\n",
        "\n",
        "# Combine all features\n",
        "processed_features = pd.concat([encoded_features, data[['Weight']]], axis=1)\n",
        "\n",
        "# Encode labels\n",
        "label_encoder = LabelEncoder()\n",
        "y = label_encoder.fit_transform(data['MeatType'])\n",
        "\n",
        "# Split the data\n",
        "X_train, X_test, y_train, y_test = train_test_split(processed_features, y, test_size=0.2, random_state=0)\n"
      ],
      "metadata": {
        "colab": {
          "base_uri": "https://localhost:8080/"
        },
        "id": "V7a2yfaN85Tm",
        "outputId": "b75ce387-de4e-47ed-e34b-a33b7bd9c14c"
      },
      "execution_count": null,
      "outputs": [
        {
          "output_type": "stream",
          "name": "stderr",
          "text": [
            "/usr/local/lib/python3.10/dist-packages/sklearn/preprocessing/_encoders.py:868: FutureWarning: `sparse` was renamed to `sparse_output` in version 1.2 and will be removed in 1.4. `sparse_output` is ignored unless you leave `sparse` to its default value.\n",
            "  warnings.warn(\n"
          ]
        }
      ]
    },
    {
      "cell_type": "code",
      "source": [
        "# Building the neural network with dropout layers\n",
        "model = Sequential([\n",
        "    Dense(128, activation='relu', input_shape=(X_train.shape[1],)),\n",
        "    Dropout(0.3),\n",
        "    Dense(64, activation='relu'),\n",
        "    Dropout(0.2),\n",
        "    Dense(32, activation='relu'),\n",
        "    Dense(3, activation='softmax')  # Assuming 3 classes for the output\n",
        "])\n",
        "\n",
        "model.compile(optimizer='adam', loss='sparse_categorical_crossentropy', metrics=['accuracy'])\n",
        "\n",
        "# Train the model\n",
        "model.fit(X_train, y_train, epochs=20, batch_size=32, validation_split=0.2)\n"
      ],
      "metadata": {
        "colab": {
          "base_uri": "https://localhost:8080/"
        },
        "id": "hbRzHOkg9G_E",
        "outputId": "09f470f7-7bc5-4cc3-80f5-2ac44f6726d8"
      },
      "execution_count": null,
      "outputs": [
        {
          "output_type": "stream",
          "name": "stdout",
          "text": [
            "Epoch 1/20\n",
            "20/20 [==============================] - 2s 22ms/step - loss: 1.1060 - accuracy: 0.3500 - val_loss: 1.0872 - val_accuracy: 0.3875\n",
            "Epoch 2/20\n",
            "20/20 [==============================] - 0s 9ms/step - loss: 1.1043 - accuracy: 0.3672 - val_loss: 1.0840 - val_accuracy: 0.3875\n",
            "Epoch 3/20\n",
            "20/20 [==============================] - 0s 13ms/step - loss: 1.0912 - accuracy: 0.3797 - val_loss: 1.0849 - val_accuracy: 0.3688\n",
            "Epoch 4/20\n",
            "20/20 [==============================] - 0s 13ms/step - loss: 1.0860 - accuracy: 0.4062 - val_loss: 1.0840 - val_accuracy: 0.4250\n",
            "Epoch 5/20\n",
            "20/20 [==============================] - 0s 18ms/step - loss: 1.0846 - accuracy: 0.3969 - val_loss: 1.0777 - val_accuracy: 0.4187\n",
            "Epoch 6/20\n",
            "20/20 [==============================] - 0s 11ms/step - loss: 1.0837 - accuracy: 0.4141 - val_loss: 1.0733 - val_accuracy: 0.3750\n",
            "Epoch 7/20\n",
            "20/20 [==============================] - 0s 6ms/step - loss: 1.0805 - accuracy: 0.3953 - val_loss: 1.0706 - val_accuracy: 0.3688\n",
            "Epoch 8/20\n",
            "20/20 [==============================] - 0s 6ms/step - loss: 1.0786 - accuracy: 0.4062 - val_loss: 1.0804 - val_accuracy: 0.3812\n",
            "Epoch 9/20\n",
            "20/20 [==============================] - 0s 6ms/step - loss: 1.0795 - accuracy: 0.4109 - val_loss: 1.0828 - val_accuracy: 0.3625\n",
            "Epoch 10/20\n",
            "20/20 [==============================] - 0s 6ms/step - loss: 1.0678 - accuracy: 0.4297 - val_loss: 1.0771 - val_accuracy: 0.3875\n",
            "Epoch 11/20\n",
            "20/20 [==============================] - 0s 6ms/step - loss: 1.0722 - accuracy: 0.4375 - val_loss: 1.0738 - val_accuracy: 0.4125\n",
            "Epoch 12/20\n",
            "20/20 [==============================] - 0s 6ms/step - loss: 1.0701 - accuracy: 0.4344 - val_loss: 1.0795 - val_accuracy: 0.4062\n",
            "Epoch 13/20\n",
            "20/20 [==============================] - 0s 7ms/step - loss: 1.0704 - accuracy: 0.4141 - val_loss: 1.0793 - val_accuracy: 0.3875\n",
            "Epoch 14/20\n",
            "20/20 [==============================] - 0s 6ms/step - loss: 1.0648 - accuracy: 0.4422 - val_loss: 1.0796 - val_accuracy: 0.3875\n",
            "Epoch 15/20\n",
            "20/20 [==============================] - 0s 6ms/step - loss: 1.0658 - accuracy: 0.4359 - val_loss: 1.0778 - val_accuracy: 0.3688\n",
            "Epoch 16/20\n",
            "20/20 [==============================] - 0s 6ms/step - loss: 1.0587 - accuracy: 0.4578 - val_loss: 1.0814 - val_accuracy: 0.3938\n",
            "Epoch 17/20\n",
            "20/20 [==============================] - 0s 6ms/step - loss: 1.0531 - accuracy: 0.4437 - val_loss: 1.0800 - val_accuracy: 0.4000\n",
            "Epoch 18/20\n",
            "20/20 [==============================] - 0s 6ms/step - loss: 1.0506 - accuracy: 0.4469 - val_loss: 1.0821 - val_accuracy: 0.3625\n",
            "Epoch 19/20\n",
            "20/20 [==============================] - 0s 6ms/step - loss: 1.0428 - accuracy: 0.4563 - val_loss: 1.0761 - val_accuracy: 0.4187\n",
            "Epoch 20/20\n",
            "20/20 [==============================] - 0s 6ms/step - loss: 1.0449 - accuracy: 0.4406 - val_loss: 1.0791 - val_accuracy: 0.4000\n"
          ]
        },
        {
          "output_type": "execute_result",
          "data": {
            "text/plain": [
              "<keras.src.callbacks.History at 0x7fa70c59c9a0>"
            ]
          },
          "metadata": {},
          "execution_count": 10
        }
      ]
    },
    {
      "cell_type": "code",
      "source": [
        "# Evaluate the model on test data\n",
        "loss, accuracy = model.evaluate(X_test, y_test)\n",
        "print(f\"Test Accuracy: {accuracy}\")\n"
      ],
      "metadata": {
        "colab": {
          "base_uri": "https://localhost:8080/"
        },
        "id": "9pOEmH149I-u",
        "outputId": "14006391-7c9c-4c94-d813-5748d7eee0f3"
      },
      "execution_count": null,
      "outputs": [
        {
          "output_type": "stream",
          "name": "stdout",
          "text": [
            "7/7 [==============================] - 0s 3ms/step - loss: 1.1197 - accuracy: 0.3300\n",
            "Test Accuracy: 0.33000001311302185\n"
          ]
        }
      ]
    }
  ]
}