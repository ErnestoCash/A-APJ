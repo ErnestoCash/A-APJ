{
  "nbformat": 4,
  "nbformat_minor": 0,
  "metadata": {
    "colab": {
      "provenance": [],
      "authorship_tag": "ABX9TyOSHgK2wenI4xqa0uhElRDP",
      "include_colab_link": true
    },
    "kernelspec": {
      "name": "python3",
      "display_name": "Python 3"
    },
    "language_info": {
      "name": "python"
    }
  },
  "cells": [
    {
      "cell_type": "markdown",
      "metadata": {
        "id": "view-in-github",
        "colab_type": "text"
      },
      "source": [
        "<a href=\"https://colab.research.google.com/github/ErnestoCash/ASAP/blob/main/Mall_Customer_Segmentation.ipynb\" target=\"_parent\"><img src=\"https://colab.research.google.com/assets/colab-badge.svg\" alt=\"Open In Colab\"/></a>"
      ]
    },
    {
      "cell_type": "code",
      "execution_count": null,
      "metadata": {
        "id": "FGUqUO3h4tMy"
      },
      "outputs": [],
      "source": [
        "# Import necessary libraries\n",
        "import pandas as pd\n",
        "import matplotlib.pyplot as plt\n",
        "import seaborn as sns\n",
        "from sklearn.cluster import KMeans\n",
        "from sklearn.preprocessing import StandardScaler\n"
      ]
    },
    {
      "cell_type": "code",
      "source": [
        "from google.colab import files\n",
        "uploaded = files.upload()\n",
        "\n",
        "import io\n",
        "# Replace 'Mall_Customers.csv' with the name of your uploaded file\n",
        "data = pd.read_csv(io.BytesIO(uploaded['Mall_Customers.csv']))\n"
      ],
      "metadata": {
        "id": "XW5Jq5WE4unS"
      },
      "execution_count": null,
      "outputs": []
    },
    {
      "cell_type": "code",
      "source": [
        "# Explore the dataset\n",
        "print(data.head())\n",
        "print(data.describe())\n",
        "\n",
        "# Check for missing values\n",
        "print(data.isnull().sum())\n",
        "\n",
        "# Feature Selection - typically 'Annual Income' and 'Spending Score' are used\n",
        "features = data[['Annual Income (k$)', 'Spending Score (1-100)']]  # Adjust column names based on your dataset\n"
      ],
      "metadata": {
        "id": "juYw5ltx4xmd"
      },
      "execution_count": null,
      "outputs": []
    },
    {
      "cell_type": "code",
      "source": [
        "# Visualizing the data distribution\n",
        "sns.pairplot(features)\n",
        "plt.show()\n"
      ],
      "metadata": {
        "id": "AevfXa2c43AT"
      },
      "execution_count": null,
      "outputs": []
    },
    {
      "cell_type": "code",
      "source": [
        "# Scale the features\n",
        "scaler = StandardScaler()\n",
        "features_scaled = scaler.fit_transform(features)\n",
        "\n",
        "# Apply KMeans Clustering\n",
        "wcss = []\n",
        "for i in range(1, 11):\n",
        "    kmeans = KMeans(n_clusters=i, random_state=42)\n",
        "    kmeans.fit(features_scaled)\n",
        "    wcss.append(kmeans.inertia_)\n",
        "\n",
        "# The Elbow Method to find the optimal number of clusters\n",
        "plt.figure(figsize=(10, 5))\n",
        "plt.plot(range(1, 11), wcss, marker='o')\n",
        "plt.title('The Elbow Method')\n",
        "plt.xlabel('Number of clusters')\n",
        "plt.ylabel('WCSS')\n",
        "plt.show()\n",
        "\n",
        "# Assuming the optimal number of clusters is 5 (adjust based on the elbow plot)\n",
        "kmeans = KMeans(n_clusters=5, random_state=42)\n",
        "clusters = kmeans.fit_predict(features_scaled)\n",
        "data['Cluster'] = clusters\n"
      ],
      "metadata": {
        "id": "YbpJ06r743i7"
      },
      "execution_count": null,
      "outputs": []
    },
    {
      "cell_type": "code",
      "source": [
        "# Analyzing Clusters\n",
        "cluster_centers = pd.DataFrame(data=kmeans.cluster_centers_, columns=features.columns)\n",
        "print(cluster_centers)\n",
        "\n",
        "# Visualization of Clusters\n",
        "plt.figure(figsize=(10, 6))\n",
        "sns.scatterplot(x='Annual Income (k$)', y='Spending Score (1-100)', hue='Cluster', data=data, palette='viridis')\n",
        "plt.title('Customer Segments')\n",
        "plt.show()\n"
      ],
      "metadata": {
        "id": "di9fVMWe47pc"
      },
      "execution_count": null,
      "outputs": []
    }
  ]
}