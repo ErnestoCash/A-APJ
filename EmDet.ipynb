{
  "nbformat": 4,
  "nbformat_minor": 0,
  "metadata": {
    "colab": {
      "provenance": [],
      "authorship_tag": "ABX9TyPiEOO6HlEwEVEf6DkzpoQ9",
      "include_colab_link": true
    },
    "kernelspec": {
      "name": "python3",
      "display_name": "Python 3"
    },
    "language_info": {
      "name": "python"
    }
  },
  "cells": [
    {
      "cell_type": "markdown",
      "metadata": {
        "id": "view-in-github",
        "colab_type": "text"
      },
      "source": [
        "<a href=\"https://colab.research.google.com/github/ErnestoCash/ASAP/blob/main/EmDet.ipynb\" target=\"_parent\"><img src=\"https://colab.research.google.com/assets/colab-badge.svg\" alt=\"Open In Colab\"/></a>"
      ]
    },
    {
      "cell_type": "code",
      "execution_count": null,
      "metadata": {
        "id": "PqpIiaMuP6bU"
      },
      "outputs": [],
      "source": [
        "import pandas as pd\n",
        "import numpy as np\n",
        "import random\n",
        "\n",
        "# Generating a synthetic dataset for emotion analysis in customer feedback\n",
        "np.random.seed(0)\n",
        "\n",
        "# Sample data\n",
        "data_size = 500  # Number of data points\n",
        "emotions = ['happy', 'angry', 'sad', 'neutral']\n",
        "feedback_examples = [\n",
        "    \"I love this product, it's absolutely fantastic!\",\n",
        "    \"This is the worst experience I've ever had.\",\n",
        "    \"I'm so sad about this service, it didn't meet my expectations.\",\n",
        "    \"The product is fine, nothing special though.\"\n",
        "]\n",
        "\n",
        "# Creating the dataset\n",
        "data = {\n",
        "    \"Feedback\": [random.choice(feedback_examples) for _ in range(data_size)],\n",
        "    \"Emotion\": [random.choice(emotions) for _ in range(data_size)]\n",
        "}\n",
        "\n",
        "# Creating a DataFrame\n",
        "feedback_df = pd.DataFrame(data)\n",
        "\n",
        "# Displaying the first few rows of the dataset\n",
        "print(feedback_df.head())\n"
      ]
    },
    {
      "cell_type": "code",
      "source": [
        "import pandas as pd\n",
        "import numpy as np\n",
        "from sklearn.model_selection import train_test_split\n",
        "from sklearn.feature_extraction.text import TfidfVectorizer\n",
        "from sklearn.preprocessing import LabelEncoder\n",
        "from tensorflow.keras.models import Sequential\n",
        "from tensorflow.keras.layers import Dense\n",
        "from sklearn.metrics import classification_report\n"
      ],
      "metadata": {
        "id": "DZHyuwWZP77p"
      },
      "execution_count": null,
      "outputs": []
    },
    {
      "cell_type": "code",
      "source": [
        "# Replace with your dataset path\n",
        "dataset_path = '/content/Customer_Feedback_Emotions.csv'\n",
        "data = pd.read_csv(dataset_path)\n"
      ],
      "metadata": {
        "id": "dnDF2zIHQEF1"
      },
      "execution_count": null,
      "outputs": []
    },
    {
      "cell_type": "code",
      "source": [
        "tfidf = TfidfVectorizer(max_features=2000)\n",
        "X = tfidf.fit_transform(data['Feedback']).toarray()\n",
        "\n",
        "label_encoder = LabelEncoder()\n",
        "y = label_encoder.fit_transform(data['Emotion'])\n",
        "\n",
        "X_train, X_test, y_train, y_test = train_test_split(X, y, test_size=0.2, random_state=42)\n"
      ],
      "metadata": {
        "id": "VXy1OCyEQE68"
      },
      "execution_count": null,
      "outputs": []
    },
    {
      "cell_type": "code",
      "source": [
        "model = Sequential([\n",
        "    Dense(512, activation='relu', input_shape=(X_train.shape[1],)),\n",
        "    Dense(256, activation='relu'),\n",
        "    Dense(len(label_encoder.classes_), activation='softmax')\n",
        "])\n",
        "model.compile(optimizer='adam', loss='sparse_categorical_crossentropy', metrics=['accuracy'])\n"
      ],
      "metadata": {
        "id": "r48fT7LjQIym"
      },
      "execution_count": null,
      "outputs": []
    },
    {
      "cell_type": "code",
      "source": [
        "history = model.fit(X_train, y_train, epochs=10, validation_data=(X_test, y_test))\n"
      ],
      "metadata": {
        "id": "UTMaVd-BQLsQ"
      },
      "execution_count": null,
      "outputs": []
    },
    {
      "cell_type": "code",
      "source": [
        "y_pred = model.predict(X_test)\n",
        "y_pred_classes = np.argmax(y_pred, axis=1)\n",
        "print(classification_report(y_test, y_pred_classes))\n"
      ],
      "metadata": {
        "id": "_8n7gB94QQWc"
      },
      "execution_count": null,
      "outputs": []
    },
    {
      "cell_type": "code",
      "source": [
        "!pip install flask-ngrok\n"
      ],
      "metadata": {
        "id": "ahCF1272QQ4j"
      },
      "execution_count": null,
      "outputs": []
    },
    {
      "cell_type": "code",
      "source": [
        "from flask import Flask, request, jsonify\n",
        "from flask_ngrok import run_with_ngrok\n",
        "\n",
        "app = Flask(__name__)\n",
        "run_with_ngrok(app)  # Start ngrok when the app is run\n",
        "\n",
        "@app.route(\"/predict\", methods=[\"POST\"])\n",
        "def predict():\n",
        "    text = request.json.get(\"text\", \"\")\n",
        "    features = tfidf.transform([text]).toarray()\n",
        "    prediction = model.predict(features)\n",
        "    emotion = label_encoder.inverse_transform([np.argmax(prediction)])[0]\n",
        "    return jsonify({\"emotion\": emotion})\n",
        "\n",
        "if __name__ == '__main__':\n",
        "    app.run()\n"
      ],
      "metadata": {
        "id": "6pm1TEpOQTqa"
      },
      "execution_count": null,
      "outputs": []
    }
  ]
}