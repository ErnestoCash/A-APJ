{
  "nbformat": 4,
  "nbformat_minor": 0,
  "metadata": {
    "colab": {
      "provenance": [],
      "authorship_tag": "ABX9TyOMamCz7k/7cocbO2D/r6DM",
      "include_colab_link": true
    },
    "kernelspec": {
      "name": "python3",
      "display_name": "Python 3"
    },
    "language_info": {
      "name": "python"
    }
  },
  "cells": [
    {
      "cell_type": "markdown",
      "metadata": {
        "id": "view-in-github",
        "colab_type": "text"
      },
      "source": [
        "<a href=\"https://colab.research.google.com/github/ErnestoCash/ASAP/blob/main/GPT4Chatbot.ipynb\" target=\"_parent\"><img src=\"https://colab.research.google.com/assets/colab-badge.svg\" alt=\"Open In Colab\"/></a>"
      ]
    },
    {
      "cell_type": "code",
      "execution_count": null,
      "metadata": {
        "id": "uU82YTn9kTZp"
      },
      "outputs": [],
      "source": [
        "# Import necessary libraries\n",
        "import requests\n",
        "import os\n",
        "import json\n",
        "\n",
        "# Install requests library if not already installed (use this in a separate environment setup script or Jupyter cell)\n",
        "# !pip install requests\n",
        "\n",
        "# Load OpenAI API key from an environment variable for security\n",
        "openai_api_key = os.getenv(\"OPENAI_API_KEY\")  # Set your OpenAI API key as an environment variable\n",
        "\n",
        "# Function to call the OpenAI API and get a response\n",
        "def get_openai_response(prompt, model=\"text-davinci-004\", max_tokens=150):\n",
        "    \"\"\"\n",
        "    Calls the OpenAI API with a given prompt and returns the response.\n",
        "\n",
        "    Args:\n",
        "    prompt (str): The prompt to send to the API.\n",
        "    model (str, optional): The model to use for the response. Defaults to \"text-davinci-004\".\n",
        "    max_tokens (int, optional): The maximum number of tokens to generate. Defaults to 150.\n",
        "\n",
        "    Returns:\n",
        "    str: The text response from the API or an error message.\n",
        "\n",
        "    Raises:\n",
        "    Exception: If the API request fails.\n",
        "    \"\"\"\n",
        "    url = \"https://api.openai.com/v4/completions\"\n",
        "    headers = {\n",
        "        \"Authorization\": f\"Bearer {openai_api_key}\",\n",
        "        \"Content-Type\": \"application/json\"\n",
        "    }\n",
        "    data = {\n",
        "        \"model\": model,\n",
        "        \"prompt\": prompt,\n",
        "        \"max_tokens\": max_tokens\n",
        "    }\n",
        "\n",
        "    try:\n",
        "        response = requests.post(url, headers=headers, json=data)\n",
        "        response.raise_for_status()  # Raises an HTTPError if the HTTP request returned an unsuccessful status code\n",
        "        response_json = response.json()\n",
        "        return response_json['choices'][0]['text']\n",
        "    except requests.exceptions.HTTPError as err:\n",
        "        return f\"HTTP error occurred: {err}\"\n",
        "    except Exception as err:\n",
        "        return f\"Other error occurred: {err}\"\n",
        "\n",
        "# Example usage of the function\n",
        "prompt = \"Translate the following English text to French: 'Hello, how are you?'\"\n",
        "print(get_openai_response(prompt))\n"
      ]
    }
  ]
}