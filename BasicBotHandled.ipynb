{
  "nbformat": 4,
  "nbformat_minor": 0,
  "metadata": {
    "colab": {
      "provenance": [],
      "authorship_tag": "ABX9TyO80ZG+j/gqIva4Oda0gAUF",
      "include_colab_link": true
    },
    "kernelspec": {
      "name": "python3",
      "display_name": "Python 3"
    },
    "language_info": {
      "name": "python"
    }
  },
  "cells": [
    {
      "cell_type": "markdown",
      "metadata": {
        "id": "view-in-github",
        "colab_type": "text"
      },
      "source": [
        "<a href=\"https://colab.research.google.com/github/ErnestoCash/ASAP/blob/main/BasicBotHandled.ipynb\" target=\"_parent\"><img src=\"https://colab.research.google.com/assets/colab-badge.svg\" alt=\"Open In Colab\"/></a>"
      ]
    },
    {
      "cell_type": "code",
      "execution_count": null,
      "metadata": {
        "id": "dhZzBPWPxS2j"
      },
      "outputs": [],
      "source": [
        "# Updated API Interaction with OpenAI using Python\n",
        "\n",
        "# Importing required libraries\n",
        "import requests\n",
        "import json\n",
        "\n",
        "def make_api_request(prompt_text):\n",
        "    \"\"\"\n",
        "    Function to interact with the OpenAI API and handle responses.\n",
        "    \"\"\"\n",
        "    # API URL/Endpoint\n",
        "    url = \"https://api.openai.com/v4/completions\"\n",
        "\n",
        "    # Headers with authentication (API key) and content type\n",
        "    headers = {\n",
        "        \"Authorization\": \"Bearer YOUR_API_KEY\",\n",
        "        \"Content-Type\": \"application/json\"\n",
        "    }\n",
        "\n",
        "    # Body of the request with the prompt and other parameters\n",
        "    data = {\n",
        "        \"model\": \"text-davinci-004\",  # Use \"gpt-4\" for ChatGPT-4\n",
        "        \"prompt\": prompt_text,\n",
        "        \"max_tokens\": 60\n",
        "    }\n",
        "\n",
        "    try:\n",
        "        # Making a POST request to the API\n",
        "        response = requests.post(url, headers=headers, json=data)\n",
        "\n",
        "        # Check if the response was successful\n",
        "        if response.status_code == 200:\n",
        "            # Return the response in JSON format\n",
        "            return response.json()\n",
        "        else:\n",
        "            # Handle API errors\n",
        "            return {\"error\": f\"API error: {response.status_code}, {response.text}\"}\n",
        "    except requests.exceptions.RequestException as e:\n",
        "        # Handle network errors\n",
        "        return {\"error\": f\"Network error: {str(e)}\"}\n",
        "\n",
        "# Example usage of the function\n",
        "example_prompt = \"Translate the following English text to French: 'Hello, how are you?'\"\n",
        "response = make_api_request(example_prompt)\n",
        "\n",
        "if 'error' in response:\n",
        "    print(\"Error:\", response['error'])\n",
        "else:\n",
        "    print(response)\n",
        "\n",
        "# Enhanced Chatbot Coding\n",
        "\n",
        "# Function to handle chatbot conversation\n",
        "def chatbot_conversation():\n",
        "    user_input = input(\"You: \")\n",
        "    chatbot_response = make_api_request(user_input)\n",
        "\n",
        "    if 'error' in chatbot_response:\n",
        "        print(\"Error:\", chatbot_response['error'])\n",
        "    else:\n",
        "        print(\"Chatbot:\", chatbot_response['choices'][0]['text'])\n",
        "\n",
        "# Example Chatbot Conversation\n",
        "while True:\n",
        "    chatbot_conversation()\n"
      ]
    }
  ]
}