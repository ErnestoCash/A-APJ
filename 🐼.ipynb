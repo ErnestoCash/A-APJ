{
  "nbformat": 4,
  "nbformat_minor": 0,
  "metadata": {
    "colab": {
      "provenance": [],
      "authorship_tag": "ABX9TyODAAIcfns8XCVEjNpToDFE",
      "include_colab_link": true
    },
    "kernelspec": {
      "name": "python3",
      "display_name": "Python 3"
    },
    "language_info": {
      "name": "python"
    }
  },
  "cells": [
    {
      "cell_type": "markdown",
      "metadata": {
        "id": "view-in-github",
        "colab_type": "text"
      },
      "source": [
        "<a href=\"https://colab.research.google.com/github/ErnestoCash/ASAP/blob/main/%F0%9F%90%BC.ipynb\" target=\"_parent\"><img src=\"https://colab.research.google.com/assets/colab-badge.svg\" alt=\"Open In Colab\"/></a>"
      ]
    },
    {
      "cell_type": "code",
      "execution_count": 8,
      "metadata": {
        "id": "ozygimy-po0r"
      },
      "outputs": [],
      "source": [
        "#While pandas is pre-installed in Google Colab,\n",
        "#you can ensure you have the latest version\n",
        "#by running the following command in a cell\n",
        "\n",
        "#####!pip install pandas --upgrade#########\n",
        "\n",
        "#----->You can skip this step if you're okay with the pre-installed version of pandas."
      ]
    },
    {
      "cell_type": "code",
      "source": [
        "#import the pandas library with the following Python code\n",
        "import pandas as pd"
      ],
      "metadata": {
        "id": "-ipqhL3Op1lr"
      },
      "execution_count": 2,
      "outputs": []
    },
    {
      "cell_type": "code",
      "source": [
        "#creating a dataframe\n",
        "data = {'Name': ['John', 'Anna', 'Peter', 'Linda'],\n",
        "        'Age': [28, 34, 29, 32],\n",
        "        'City': ['New York', 'Paris', 'Berlin', 'London']}"
      ],
      "metadata": {
        "id": "RyTapT0Bq8Ui"
      },
      "execution_count": 3,
      "outputs": []
    },
    {
      "cell_type": "code",
      "source": [
        "#To view the DataFrame you've created, simply type df in a new cell and run it.\n",
        "df = pd.DataFrame(data)\n",
        "print(df)"
      ],
      "metadata": {
        "colab": {
          "base_uri": "https://localhost:8080/"
        },
        "id": "9jzk1jFArj19",
        "outputId": "dfda1cdc-b8e8-4b7c-ae92-c2a79e198b95"
      },
      "execution_count": 5,
      "outputs": [
        {
          "output_type": "stream",
          "name": "stdout",
          "text": [
            "    Name  Age      City\n",
            "0   John   28  New York\n",
            "1   Anna   34     Paris\n",
            "2  Peter   29    Berlin\n",
            "3  Linda   32    London\n"
          ]
        }
      ]
    },
    {
      "cell_type": "code",
      "source": [
        "#To access and print a specific column, such as the 'Age' column, use the following code in a new cell\n",
        "print(df['Age'])"
      ],
      "metadata": {
        "colab": {
          "base_uri": "https://localhost:8080/"
        },
        "id": "ZUy5V0aBsJSJ",
        "outputId": "6568bc49-73fa-4e95-fe47-8768587a0a0e"
      },
      "execution_count": 6,
      "outputs": [
        {
          "output_type": "stream",
          "name": "stdout",
          "text": [
            "0    28\n",
            "1    34\n",
            "2    29\n",
            "3    32\n",
            "Name: Age, dtype: int64\n"
          ]
        }
      ]
    },
    {
      "cell_type": "code",
      "source": [
        "#To filter and display rows where the age is greater than 30, use:\n",
        "print(df[df['Age'] > 30])\n"
      ],
      "metadata": {
        "colab": {
          "base_uri": "https://localhost:8080/"
        },
        "id": "bFrxBWcxsRVc",
        "outputId": "013a6489-714c-43be-fa46-beb89bc258d5"
      },
      "execution_count": 7,
      "outputs": [
        {
          "output_type": "stream",
          "name": "stdout",
          "text": [
            "    Name  Age    City\n",
            "1   Anna   34   Paris\n",
            "3  Linda   32  London\n"
          ]
        }
      ]
    }
  ]
}