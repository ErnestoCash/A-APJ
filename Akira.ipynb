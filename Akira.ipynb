{
  "nbformat": 4,
  "nbformat_minor": 0,
  "metadata": {
    "colab": {
      "provenance": [],
      "authorship_tag": "ABX9TyNR60/C6PD5jE+iH65v1swR",
      "include_colab_link": true
    },
    "kernelspec": {
      "name": "python3",
      "display_name": "Python 3"
    },
    "language_info": {
      "name": "python"
    }
  },
  "cells": [
    {
      "cell_type": "markdown",
      "metadata": {
        "id": "view-in-github",
        "colab_type": "text"
      },
      "source": [
        "<a href=\"https://colab.research.google.com/github/ErnestoCash/ASAP/blob/main/Akira.ipynb\" target=\"_parent\"><img src=\"https://colab.research.google.com/assets/colab-badge.svg\" alt=\"Open In Colab\"/></a>"
      ]
    },
    {
      "cell_type": "code",
      "execution_count": null,
      "metadata": {
        "id": "_LOoRR4bTipt"
      },
      "outputs": [],
      "source": [
        "from IPython.display import display\n",
        "import ipywidgets as widgets\n",
        "import requests\n",
        "\n",
        "endpoint = ''\n",
        "checkpointName = 'Chilloutmix'\n",
        "checkpointID = '' #@param {type:\"string\"}\n",
        "checkpointURL = '' #@param {type:\"string\"}\n",
        "\n",
        "#@markdown ---\n",
        "\n",
        "#@markdown ## **LoRAs**\n",
        "\n",
        "\n",
        "koreanDollLikenessv10 = False #@param {type:\"boolean\"}\n",
        "koreanDollLikenessv15 = True #@param {type:\"boolean\"}\n",
        "koreanDollLikenessv20 = True #@param {type:\"boolean\"}\n",
        "stLouis = True #@param {type:\"boolean\"}\n",
        "girlsFrontlineOTs14Lightning = True #@param {type:\"boolean\"}\n",
        "yaeMikoRealisticGenshinMixed = True #@param {type:\"boolean\"}\n",
        "fashionGirl = True #@param {type:\"boolean\"}\n",
        "cuteGirlMix4 = True #@param {type:\"boolean\"}\n",
        "#@markdown More LoRA? (Enter the URL of the lora file, use comma to separate multiple URLs)\n",
        "moreLoRA = \"\" #@param {type:\"string\"}\n",
        "#@markdown ---\n",
        "\n",
        "#@markdown ## **Textual Inversion**\n",
        "\n",
        "#@markdown Ulzzang-6500 (Korean doll aesthetic)\n",
        "ulzzang6500 = True #@param {type:\"boolean\"}\n",
        "#@markdown Pure Eros Face\n",
        "pureErosFace = True #@param {type:\"boolean\"}\n",
        "\n",
        "\n",
        "defaultCheckpoint = {\n",
        "    'Chilloutmix': '6424',\n",
        "    'Sunshinemix': '9291',\n",
        "    'grapefruit_hentai': '2583'\n",
        "}\n",
        "\n",
        "loraDownloadIDs = {\n",
        "  'koreanDollLikenessv10': 'https://huggingface.co/Kanbara/doll-likeness-series/resolve/main/koreanDollLikeness_v10.safetensors',\n",
        "  'koreanDollLikenessv15': 'https://huggingface.co/Kanbara/doll-likeness-series/resolve/main/koreanDollLikeness_v15.safetensors',\n",
        "  'koreanDollLikenessv20': 'https://huggingface.co/Kanbara/doll-likeness-series/resolve/main/koreanDollLikeness_v20.safetensors',\n",
        "  'stLouis': 6669,\n",
        "  'girlsFrontlineOTs14Lightning': 6525,\n",
        "  'yaeMikoRealisticGenshinMixed': 8484,\n",
        "  # 'chilloutMixss': 10850,\n",
        "  'fashionGirl': {\n",
        "    \"id\": 8217,\n",
        "    \"version\": \"v4.5\"\n",
        "  },\n",
        "  'cuteGirlMix4': 14171,\n",
        "}\n",
        "\n",
        "textualInversionDownloadIDs = {\n",
        "  'ulzzang6500': 8109,\n",
        "  'pureErosFace': 4514,\n",
        "}\n",
        "\n",
        "downloadIds = []\n",
        "\n",
        "if checkpointID != '':\n",
        "    downloadIds = checkpointID.split(',')\n",
        "if checkpointName != 'others':\n",
        "        downloadIds.append(defaultCheckpoint[checkpointName])\n",
        "\n",
        "globalDropdowns = []\n",
        "globalVerions = []\n",
        "globalNames = []\n",
        "globalTexts = []\n",
        "checkpoints = []\n",
        "downloadLinks = []\n",
        "customLoras = []\n",
        "loraDownloadLinks = []\n",
        "\n",
        "button = widgets.Button(description='Use it!')\n",
        "button.on_click(on_button_clicked)\n",
        "display(button)"
      ]
    },
    {
      "cell_type": "code",
      "source": [
        "#@title 2. Check GPU & Dev Environment\n",
        "\n",
        "import os, subprocess\n",
        "paperspace_m4000 = False\n",
        "#@markdown Paperspace platform?\n",
        "isPaperspace = False #@param {type:\"boolean\"}\n",
        "appPrefix = 'stable' + '-' + 'diffusion' + '-' + 'webui' # app prefix\n",
        "sdModelPrefix = 'Stable' + '-' + 'diffusion'\n",
        "ecosystemUIPrefix = \"sd-webui\"\n",
        "\n",
        "try:\n",
        "    subprocess.run(['nvidia-smi', '--query-gpu=name', '--format=csv,noheader'], stdout=subprocess.PIPE)\n",
        "    if 'M4000' in subprocess.run(['nvidia-smi', '--query-gpu=name', '--format=csv,noheader'], stdout=subprocess.PIPE).stdout.decode('utf-8'):\n",
        "        print(\"WARNING: You're using Quadro M4000 GPU，xformers won't work。\")\n",
        "        paperspace_m4000 = True\n",
        "        isPaperspace = True\n",
        "    else:\n",
        "        print(\"Your GPU is suitable - \" + subprocess.run(['nvidia-smi', '--query-gpu=name', '--format=csv,noheader'], stdout=subprocess.PIPE).stdout.decode('utf-8') + \"。\")\n",
        "        print(\"Platform: Paperspace\" if isPaperspace else \"Platform: Colab\")\n",
        "except:\n",
        "    print(\"No GPU appears to be available. Please check your runtime type\")\n",
        "    exit()\n",
        "\n",
        "rootDir = isPaperspace and '/tmp' or '/content'\n",
        "diffusionWebUIInstalled = os.path.exists(rootDir + '/' + appPrefix)\n",
        "%store rootDir\n",
        "%store paperspace_m4000\n",
        "%store isPaperspace\n",
        "%store diffusionWebUIInstalled"
      ],
      "metadata": {
        "id": "RkfgKjn_VZp8"
      },
      "execution_count": null,
      "outputs": []
    }
  ]
}