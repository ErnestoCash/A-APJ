{
  "nbformat": 4,
  "nbformat_minor": 0,
  "metadata": {
    "colab": {
      "provenance": [],
      "authorship_tag": "ABX9TyPMh4wWaaWVg3LY0ol6DfH5",
      "include_colab_link": true
    },
    "kernelspec": {
      "name": "python3",
      "display_name": "Python 3"
    },
    "language_info": {
      "name": "python"
    }
  },
  "cells": [
    {
      "cell_type": "markdown",
      "metadata": {
        "id": "view-in-github",
        "colab_type": "text"
      },
      "source": [
        "<a href=\"https://colab.research.google.com/github/ErnestoCash/ASAP/blob/main/GermanCreditCards.ipynb\" target=\"_parent\"><img src=\"https://colab.research.google.com/assets/colab-badge.svg\" alt=\"Open In Colab\"/></a>"
      ]
    },
    {
      "cell_type": "code",
      "execution_count": null,
      "metadata": {
        "id": "meje_2asynhC"
      },
      "outputs": [],
      "source": [
        "# Import necessary libraries\n",
        "import pandas as pd\n",
        "import numpy as np\n",
        "import matplotlib.pyplot as plt\n",
        "import seaborn as sns\n",
        "from sklearn.model_selection import train_test_split, GridSearchCV\n",
        "from sklearn.preprocessing import StandardScaler, LabelEncoder\n",
        "from sklearn.tree import DecisionTreeClassifier\n",
        "from sklearn.svm import SVC\n",
        "from sklearn.neighbors import KNeighborsClassifier\n",
        "from sklearn.metrics import accuracy_score, precision_score, recall_score, f1_score, confusion_matrix\n",
        "\n",
        "# Load the dataset\n",
        "data_url = \"https://archive.ics.uci.edu/ml/machine-learning-databases/statlog/german/german.data-numeric\"\n",
        "data = pd.read_csv(data_url, header=None, delim_whitespace=True)\n",
        "\n"
      ]
    },
    {
      "cell_type": "code",
      "source": [
        "# Display the first few rows of the dataset\n",
        "data.head()\n",
        "\n",
        "# Summary statistics\n",
        "data.describe()\n",
        "\n",
        "# Check for missing values\n",
        "data.isnull().sum()"
      ],
      "metadata": {
        "id": "h7XgZrOmy6hM"
      },
      "execution_count": null,
      "outputs": []
    },
    {
      "cell_type": "code",
      "source": [
        "# Handling missing values - example\n",
        "data.fillna(method='ffill', inplace=True)\n",
        "\n",
        "# Feature Engineering - example\n",
        "data['Debt_Income_Ratio'] = data['ApplicantIncome'] / data['LoanAmount']\n",
        "\n",
        "# Encoding categorical variables\n",
        "label_encoder = LabelEncoder()\n",
        "data['Property_Area'] = label_encoder.fit_transform(data['Property_Area'])\n",
        "\n",
        "# Normalize numerical features\n",
        "scaler = StandardScaler()\n",
        "data['ApplicantIncome'] = scaler.fit_transform(data['ApplicantIncome'].values.reshape(-1,1))\n"
      ],
      "metadata": {
        "id": "QBJ8hKwSzF4i"
      },
      "execution_count": null,
      "outputs": []
    }
  ]
}